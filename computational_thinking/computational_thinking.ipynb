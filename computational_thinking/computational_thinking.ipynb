{
  "nbformat": 4,
  "nbformat_minor": 0,
  "metadata": {
    "colab": {
      "provenance": []
    },
    "kernelspec": {
      "name": "python3",
      "display_name": "Python 3"
    },
    "language_info": {
      "name": "python"
    }
  },
  "cells": [
    {
      "cell_type": "markdown",
      "source": [
        "Jail Break\n",
        "\n",
        "A newly constructed jail has 100 cells, numbered 1 to 100.\n",
        "\n",
        "The newly appointed jailer arrives and decides to walk around as he is bored – the inmates are yet to arrive.\n",
        "\n",
        "He notices that all the cells are open. He proceeds to close them, going from cell number 1 to 100 in order.\n",
        "\n",
        "He returns to the beginning and visits all even numbered cells: 2, 4, 6 … 100, opening the doors of the visited cells.\n",
        "\n",
        "Again he returns to the beginning and this times visits cells 3, 6, 9 … 99. As he encounters both closed and open doors, he closes the open doors and opens the closed doors.\n",
        "\n",
        "He continues his rounds the same way visiting 4, 8, … 5, 10, …, 6, 12 … till he completes 100 rounds.\n",
        "\n",
        "Which doors are open and which are closed?\n",
        "\n",
        "Write a python function that takes one input, num_cells, and outputs a tuple containing two lists, the first one being a list of open cells and the second one a list of closed cells. Note that the number of rounds that the jailer completes is always equal to the number of cells.\n",
        "\n",
        "For example, if there are five cells, this is the sequence that is followed:\n",
        "\n",
        "Init : [Open, Open, Open, Open, Open]\n",
        "\n",
        "Round 1: [Closed, Closed, Closed, Closed, Closed]\n",
        "\n",
        "Round 2: [Closed, Open, Closed, Open, Closed]\n",
        "\n",
        "Round 3: [Closed, Open, Open, Open, Closed]\n",
        "\n",
        "Round 4: [Closed, Open, Open, Closed, Closed]\n",
        "\n",
        "Round 5: [Closed, Open, Open, Closed, Open]\n",
        "\n",
        "Output: ([2, 3, 5], [1, 4])\n",
        "\n",
        "For you, I will even run it for ten cells.\n",
        "\n",
        "Open is represented by O and Closed is represented by C.\n",
        "\n",
        "Init : [O, O, O, O, O, O, O, O, O, O]\n",
        "\n",
        "Round 1: [C, C, C, C, C, C, C, C, C, C]\n",
        "\n",
        "Round 2: [C, O, C, O, C, O, C, O, C, O]\n",
        "\n",
        "Round 3: [C, O, O, O, C, C, C, O, O, O]\n",
        "\n",
        "Round 4: [C, O, O, C, C, C, C, C, O, O]\n",
        "\n",
        "Round 5: [C, O, O, C, O, C, C, C, O, C]\n",
        "\n",
        "Round 6: [C, O, O, C, O, O, C, C, O, C]\n",
        "\n",
        "Round 7: [C, O, O, C, O, O, O, C, O, C]\n",
        "\n",
        "Round 8: [C, O, O, C, O, O, O, O, O, C]\n",
        "\n",
        "Round 9: [C, O, O, C, O, O, O, O, C, C]\n",
        "\n",
        "Round 10: [C, O, O, C, O, O, O, O, C, O]\n",
        "\n",
        "Output: ([2, 3, 5, 6, 7, 8, 10], [1, 4, 9])"
      ],
      "metadata": {
        "id": "pKSgr3f0hZbD"
      }
    },
    {
      "cell_type": "code",
      "source": [
        "def jail_break(num_cells):\n",
        "    # Function to check if a number is prime\n",
        "    def is_prime(n):\n",
        "        if n == 1:\n",
        "            return False\n",
        "        return not any(n % i == 0 for i in range(2, n // 2 + 1))\n",
        "\n",
        "    # Function to count the number of factors\n",
        "    def num_factors(n):\n",
        "        return sum(1 for i in range(1, n // 2 + 1) if n % i == 0)\n",
        "\n",
        "    # Determine open and closed cells based on factors and primality\n",
        "    open_cells = [cell_num for cell_num in range(1, num_cells + 1) if num_factors(cell_num) % 2 == 1 or is_prime(cell_num)]\n",
        "    closed_cells = [cell_num for cell_num in range(1, num_cells + 1) if num_factors(cell_num) % 2 == 0 and not is_prime(cell_num)]\n",
        "\n",
        "    return [open_cells, closed_cells]\n",
        "\n",
        "# Example usage:\n",
        "#test case 1:\n",
        "num_cells = 10\n",
        "print(jail_break(num_cells))\n"
      ],
      "metadata": {
        "colab": {
          "base_uri": "https://localhost:8080/"
        },
        "id": "xBU9fUI-p0Fw",
        "outputId": "f8a62ca1-3b0a-4c1c-88db-642ee9e209a6"
      },
      "execution_count": 11,
      "outputs": [
        {
          "output_type": "stream",
          "name": "stdout",
          "text": [
            "[[2, 3, 5, 6, 7, 8, 10], [1, 4, 9]]\n"
          ]
        }
      ]
    },
    {
      "cell_type": "code",
      "source": [
        "#test case 2:\n",
        "num_cells = 5\n",
        "print(jail_break(num_cells))"
      ],
      "metadata": {
        "colab": {
          "base_uri": "https://localhost:8080/"
        },
        "id": "jYryXeoXrYJr",
        "outputId": "42c8195e-86d3-411f-f576-b02c2c344d75"
      },
      "execution_count": 12,
      "outputs": [
        {
          "output_type": "stream",
          "name": "stdout",
          "text": [
            "[[2, 3, 5], [1, 4]]\n"
          ]
        }
      ]
    },
    {
      "cell_type": "code",
      "source": [
        "#test case 3:\n",
        "num_cells = 1\n",
        "print(jail_break(num_cells))"
      ],
      "metadata": {
        "colab": {
          "base_uri": "https://localhost:8080/"
        },
        "outputId": "97bcc5f5-041d-490c-a780-6758fafbfabf",
        "id": "0efXwIZbsbgR"
      },
      "execution_count": 14,
      "outputs": [
        {
          "output_type": "stream",
          "name": "stdout",
          "text": [
            "[[], [1]]\n"
          ]
        }
      ]
    },
    {
      "cell_type": "code",
      "source": [
        "#test case 4:\n",
        "num_cells = 0\n",
        "print(jail_break(num_cells))"
      ],
      "metadata": {
        "colab": {
          "base_uri": "https://localhost:8080/"
        },
        "id": "hCHq82C9seI_",
        "outputId": "4a5b0d45-2c46-4d6f-e19e-0547c762b79a"
      },
      "execution_count": 16,
      "outputs": [
        {
          "output_type": "stream",
          "name": "stdout",
          "text": [
            "[[], []]\n"
          ]
        }
      ]
    },
    {
      "cell_type": "code",
      "source": [],
      "metadata": {
        "id": "dM-ihLxJsopx"
      },
      "execution_count": null,
      "outputs": []
    }
  ]
}