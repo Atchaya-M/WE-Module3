{
  "nbformat": 4,
  "nbformat_minor": 0,
  "metadata": {
    "colab": {
      "provenance": []
    },
    "kernelspec": {
      "name": "python3",
      "display_name": "Python 3"
    },
    "language_info": {
      "name": "python"
    }
  },
  "cells": [
    {
      "cell_type": "code",
      "source": [
        "import re\n",
        "import random\n",
        "\n",
        "# Sample text corpus\n",
        "sample_text = \"\"\"\n",
        "Lorem ipsum dolor sit amet, consectetur adipiscing elit. Sed do eiusmod tempor incididunt ut labore et dolore magna aliqua. Ut enim ad minim veniam, quis nostrud exercitation ullamco laboris nisi ut aliquip ex ea commodo consequat. Duis aute irure dolor in reprehenderit in voluptate velit esse cillum dolore eu fugiat nulla pariatur. Excepteur sint occaecat cupidatat non proident, sunt in culpa qui officia deserunt mollit anim id est laborum.\n",
        "\"\"\"\n",
        "\n",
        "def clean_text(text):\n",
        "    # Remove special characters and extra whitespaces\n",
        "    cleaned_text = re.sub(r'[^\\w\\s]', '', text)\n",
        "    cleaned_text = re.sub(r'\\s+', ' ', cleaned_text)\n",
        "    return cleaned_text.strip()\n",
        "\n",
        "def generate_output(text, start_word, output_length):\n",
        "    cleaned_text = clean_text(text)\n",
        "    words = cleaned_text.split()\n",
        "    transitions = {}  # Dictionary to store word transitions\n",
        "\n",
        "    # Build transitions dictionary\n",
        "    for i in range(len(words) - 1):\n",
        "        current_word = words[i]\n",
        "        next_word = words[i + 1]\n",
        "        if current_word in transitions:\n",
        "            transitions[current_word].append(next_word)\n",
        "        else:\n",
        "            transitions[current_word] = [next_word]\n",
        "\n",
        "    output_text = [start_word]\n",
        "    while len(output_text) < int(output_length):\n",
        "        current_word = output_text[-1]\n",
        "        if current_word in transitions:\n",
        "            next_word_options = transitions[current_word]\n",
        "            next_word = random.choice(next_word_options)\n",
        "            output_text.append(next_word)\n",
        "        else:\n",
        "            break\n",
        "\n",
        "    return ' '.join(output_text)\n",
        "\n",
        "# Example usage\n",
        "start_word = \"Lorem\"\n",
        "output_length = \"10\"\n",
        "\n",
        "output_text = generate_output(sample_text, start_word, output_length)\n",
        "print(\"Generated Text:\")\n",
        "print(output_text)\n"
      ],
      "metadata": {
        "colab": {
          "base_uri": "https://localhost:8080/"
        },
        "id": "GDdLSe_IPUwh",
        "outputId": "ecac7eff-5192-4ccc-e977-2549e4cc11aa"
      },
      "execution_count": 44,
      "outputs": [
        {
          "output_type": "stream",
          "name": "stdout",
          "text": [
            "Generated Text:\n",
            "Lorem ipsum dolor sit amet consectetur adipiscing elit Sed do\n"
          ]
        }
      ]
    },
    {
      "cell_type": "code",
      "source": [
        "# Test case 1: Starting word not in sample text\n",
        "start_word = \"Nonexistent\"\n",
        "output_length = \"10\"\n",
        "output_text = generate_output(sample_text, start_word, output_length)\n",
        "print(\"Test Case 1 Output:\")\n",
        "print(output_text)\n",
        "\n",
        "# Test case 2: Short output length\n",
        "start_word = \"Lorem\"\n",
        "output_length = \"5\"\n",
        "output_text = generate_output(sample_text, start_word, output_length)\n",
        "print(\"\\nTest Case 2 Output:\")\n",
        "print(output_text)\n",
        "\n",
        "# Test case 3: Long output length\n",
        "start_word = \"Lorem\"\n",
        "output_length = \"100\"\n",
        "output_text = generate_output(sample_text, start_word, output_length)\n",
        "print(\"\\nTest Case 3 Output:\")\n",
        "print(output_text)\n",
        "\n",
        "# Test case 4: Random starting word and output length\n",
        "start_word = random.choice(sample_text.split())\n",
        "output_length = str(random.randint(5, 30))\n",
        "output_text = generate_output(sample_text, start_word, output_length)\n",
        "print(\"\\nTest Case 4 Output:\")\n",
        "print(output_text)\n"
      ],
      "metadata": {
        "colab": {
          "base_uri": "https://localhost:8080/"
        },
        "id": "nAOfkzQxPm4Y",
        "outputId": "9ca05883-7f51-4986-d1b8-0ba80e2a7a71"
      },
      "execution_count": 45,
      "outputs": [
        {
          "output_type": "stream",
          "name": "stdout",
          "text": [
            "Test Case 1 Output:\n",
            "Nonexistent\n",
            "\n",
            "Test Case 2 Output:\n",
            "Lorem ipsum dolor sit amet\n",
            "\n",
            "Test Case 3 Output:\n",
            "Lorem ipsum dolor sit amet consectetur adipiscing elit Sed do eiusmod tempor incididunt ut aliquip ex ea commodo consequat Duis aute irure dolor sit amet consectetur adipiscing elit Sed do eiusmod tempor incididunt ut labore et dolore magna aliqua Ut enim ad minim veniam quis nostrud exercitation ullamco laboris nisi ut labore et dolore eu fugiat nulla pariatur Excepteur sint occaecat cupidatat non proident sunt in voluptate velit esse cillum dolore eu fugiat nulla pariatur Excepteur sint occaecat cupidatat non proident sunt in culpa qui officia deserunt mollit anim id est laborum\n",
            "\n",
            "Test Case 4 Output:\n",
            "in culpa qui officia deserunt mollit\n"
          ]
        }
      ]
    },
    {
      "cell_type": "code",
      "source": [],
      "metadata": {
        "id": "TSr9WditP3l9"
      },
      "execution_count": null,
      "outputs": []
    }
  ]
}