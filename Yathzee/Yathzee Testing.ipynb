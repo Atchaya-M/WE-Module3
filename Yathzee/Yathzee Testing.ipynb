{
  "nbformat": 4,
  "nbformat_minor": 0,
  "metadata": {
    "colab": {
      "provenance": []
    },
    "kernelspec": {
      "name": "python3",
      "display_name": "Python 3"
    },
    "language_info": {
      "name": "python"
    }
  },
  "cells": [
    {
      "cell_type": "code",
      "execution_count": 1,
      "metadata": {
        "colab": {
          "base_uri": "https://localhost:8080/"
        },
        "id": "kO3S9yT2wppg",
        "outputId": "2c6ccb1b-304f-4c55-fa78-e93ade93b5af"
      },
      "outputs": [
        {
          "output_type": "stream",
          "name": "stdout",
          "text": [
            "Dice roll: [2, 3, 2, 5, 6]\n"
          ]
        }
      ],
      "source": [
        "import random\n",
        "\n",
        "def roll_dice(num_dice):\n",
        "    \"\"\"\n",
        "    Simulates rolling a specified number of dice.\n",
        "\n",
        "    Args:\n",
        "    - num_dice: An integer specifying the number of dice to roll.\n",
        "\n",
        "    Returns:\n",
        "    - A list containing the values rolled on each die.\n",
        "    \"\"\"\n",
        "    return [random.randint(1, 6) for _ in range(num_dice)]\n",
        "\n",
        "# Example usage:\n",
        "num_dice = 5  # Number of dice to roll\n",
        "dice_roll = roll_dice(num_dice)\n",
        "print(\"Dice roll:\", dice_roll)\n"
      ]
    },
    {
      "cell_type": "code",
      "source": [
        "import random\n",
        "\n",
        "def roll_dice(num_dice):\n",
        "    \"\"\"\n",
        "    Simulates rolling a specified number of dice.\n",
        "\n",
        "    Args:\n",
        "    - num_dice: An integer specifying the number of dice to roll.\n",
        "\n",
        "    Returns:\n",
        "    - A list containing the values rolled on each die.\n",
        "    \"\"\"\n",
        "    if not isinstance(num_dice, int) or num_dice <= 0:\n",
        "        raise ValueError(\"Number of dice must be a positive integer.\")\n",
        "\n",
        "    return [random.randint(1, 6) for _ in range(num_dice)]\n",
        "\n",
        "# Example usage:\n",
        "try:\n",
        "    num_dice = 5  # Number of dice to roll\n",
        "    dice_roll = roll_dice(num_dice)\n",
        "    print(\"Dice roll:\", dice_roll)\n",
        "except ValueError as e:\n",
        "    print(\"Error:\", e)\n"
      ],
      "metadata": {
        "colab": {
          "base_uri": "https://localhost:8080/"
        },
        "id": "A4j-38pw56Oj",
        "outputId": "af76487f-f066-420d-896f-b29ad9c15415"
      },
      "execution_count": 2,
      "outputs": [
        {
          "output_type": "stream",
          "name": "stdout",
          "text": [
            "Dice roll: [1, 5, 4, 1, 5]\n"
          ]
        }
      ]
    },
    {
      "cell_type": "code",
      "source": [
        "import random\n",
        "\n",
        "def roll_dice(num_dice):\n",
        "    \"\"\"\n",
        "    Simulates rolling a specified number of dice.\n",
        "\n",
        "    Args:\n",
        "    - num_dice: An integer specifying the number of dice to roll.\n",
        "\n",
        "    Returns:\n",
        "    - A list containing the values rolled on each die.\n",
        "    \"\"\"\n",
        "    if not isinstance(num_dice, int) or num_dice <= 0:\n",
        "        raise ValueError(\"Number of dice must be a positive integer.\")\n",
        "\n",
        "    return [random.randint(1, 6) for _ in range(num_dice)]\n",
        "\n",
        "# Testing the roll_dice function\n",
        "def test_roll_dice():\n",
        "    try:\n",
        "        # Boundary Testing\n",
        "        assert roll_dice(0) == []\n",
        "        assert roll_dice(1) == [1]  # Assuming the roll_dice always returns a list\n",
        "        assert all(1 <= value <= 6 for value in roll_dice(100))  # Large number of dice\n",
        "\n",
        "        # Functional Testing\n",
        "        assert len(roll_dice(5)) == 5\n",
        "        assert all(1 <= value <= 6 for value in roll_dice(5))\n",
        "\n",
        "        # Exception Testing\n",
        "        roll_dice(-1)  # Should raise a ValueError\n",
        "    except ValueError as e:\n",
        "        print(\"Exception Test Passed. Error:\", e)\n",
        "    except AssertionError as e:\n",
        "        print(\"Assertion Error:\", e)\n",
        "    else:\n",
        "        print(\"All tests passed successfully.\")\n",
        "\n",
        "# Run the test function\n",
        "test_roll_dice()\n"
      ],
      "metadata": {
        "colab": {
          "base_uri": "https://localhost:8080/"
        },
        "id": "boVxG1jN6zte",
        "outputId": "424a11da-475d-44ac-b2f5-d16f69a6cc54"
      },
      "execution_count": 3,
      "outputs": [
        {
          "output_type": "stream",
          "name": "stdout",
          "text": [
            "Exception Test Passed. Error: Number of dice must be a positive integer.\n"
          ]
        }
      ]
    },
    {
      "cell_type": "code",
      "source": [
        "def calculate_score(dice, category):\n",
        "    # Debugging statement to check input values\n",
        "    print(\"Calculating score for dice:\", dice, \"Category:\", category)\n",
        "\n",
        "    score = 0\n",
        "    if category == 'Ones':\n",
        "        score = sum([d for d in dice if d == 1])\n",
        "    elif category == 'Twos':\n",
        "        score = sum([d for d in dice if d == 2])\n",
        "    elif category == 'Threes':\n",
        "        score = sum([d for d in dice if d == 3])\n",
        "    elif category == 'Fours':\n",
        "        score = sum([d for d in dice if d == 4])\n",
        "    elif category == 'Fives':\n",
        "        score = sum([d for d in dice if d == 5])\n",
        "    # Add more categories here\n",
        "\n",
        "    # Debugging statement to check calculated score\n",
        "    print(\"Calculated score:\", score)\n",
        "\n",
        "    return score\n",
        "\n",
        "# Test the calculate_score function with some example inputs\n",
        "print(calculate_score([1, 2, 3, 4, 5], 'Twos'))\n"
      ],
      "metadata": {
        "colab": {
          "base_uri": "https://localhost:8080/"
        },
        "id": "YOWRbyd98PSG",
        "outputId": "ffd05bf5-7530-4a51-d708-873d7f282f6e"
      },
      "execution_count": 4,
      "outputs": [
        {
          "output_type": "stream",
          "name": "stdout",
          "text": [
            "Calculating score for dice: [1, 2, 3, 4, 5] Category: Twos\n",
            "Calculated score: 2\n",
            "2\n"
          ]
        }
      ]
    },
    {
      "cell_type": "code",
      "source": [
        "def test_yahtzee_functions():\n",
        "    try:\n",
        "        # Test cases for calculate_score\n",
        "        assert calculate_score([1, 2, 3, 4, 5], 'Ones') == 1\n",
        "        assert calculate_score([1, 2, 3, 4, 5], 'Twos') == 2\n",
        "        # Add more test cases here\n",
        "\n",
        "    except AssertionError as e:\n",
        "        print(\"Assertion Error:\", e)\n",
        "        print(\"Actual result:\", calculate_score([1, 2, 3, 4, 5], 'Twos'))\n",
        "        print(\"Expected result: 2\")\n",
        "    else:\n",
        "        print(\"All tests passed successfully.\")\n",
        "\n",
        "# Run the test function\n",
        "test_yahtzee_functions()\n"
      ],
      "metadata": {
        "colab": {
          "base_uri": "https://localhost:8080/"
        },
        "id": "gjdJ11bN8Tn5",
        "outputId": "50a7a160-ef0f-4e7b-9407-42bd557ada84"
      },
      "execution_count": 5,
      "outputs": [
        {
          "output_type": "stream",
          "name": "stdout",
          "text": [
            "Calculating score for dice: [1, 2, 3, 4, 5] Category: Ones\n",
            "Calculated score: 1\n",
            "Calculating score for dice: [1, 2, 3, 4, 5] Category: Twos\n",
            "Calculated score: 2\n",
            "All tests passed successfully.\n"
          ]
        }
      ]
    },
    {
      "cell_type": "code",
      "source": [
        "\n",
        "def validate_category(dice, category):\n",
        "    \"\"\"\n",
        "    Validates if a given category is valid for a specific dice roll.\n",
        "\n",
        "    Args:\n",
        "    - dice: A list containing the values rolled on each die.\n",
        "    - category: A string representing the scoring category.\n",
        "\n",
        "    Returns:\n",
        "    - True if the category is valid for the given dice roll, False otherwise.\n",
        "    \"\"\"\n",
        "    if category in ['Ones', 'Twos', 'Threes', 'Fours', 'Fives', 'Sixes']:\n",
        "        return True\n",
        "    elif category == 'Three of a Kind':\n",
        "        return any(dice.count(i) >= 3 for i in set(dice))\n",
        "    elif category == 'Four of a Kind':\n",
        "        return any(dice.count(i) >= 4 for i in set(dice))\n",
        "    elif category == 'Full House':\n",
        "        counts = [dice.count(i) for i in set(dice)]\n",
        "        return 2 in counts and 3 in counts\n",
        "    elif category == 'Small Straight':\n",
        "        sorted_dice = sorted(set(dice))\n",
        "        return any(sorted_dice[i:i + 4] == [sorted_dice[i], sorted_dice[i] + 1, sorted_dice[i] + 2, sorted_dice[i] + 3] for i in range(len(sorted_dice) - 3))\n",
        "    elif category == 'Large Straight':\n",
        "        sorted_dice = sorted(set(dice))\n",
        "        return len(sorted_dice) == 5 and sorted_dice[-1] - sorted_dice[0] == 4\n",
        "    elif category == 'Yahtzee':\n",
        "        return dice.count(dice[0]) == 5\n",
        "    elif category == 'Chance':\n",
        "        return True\n",
        "    else:\n",
        "        return False"
      ],
      "metadata": {
        "id": "D-JMMupl8Y1S"
      },
      "execution_count": 6,
      "outputs": []
    },
    {
      "cell_type": "code",
      "source": [
        "def update_scorecard(scorecard, category, score):\n",
        "    \"\"\"\n",
        "    Updates the scorecard with the score for a specific category.\n",
        "\n",
        "    Args:\n",
        "    - scorecard: A dictionary representing the current scorecard.\n",
        "    - category: A string representing the scoring category.\n",
        "    - score: The score to update for the given category.\n",
        "\n",
        "    Returns:\n",
        "    - None (the scorecard dictionary is modified in place).\n",
        "    \"\"\"\n",
        "    scorecard[category] = score\n",
        "\n",
        "def display_scorecard(scorecard):\n",
        "    \"\"\"\n",
        "    Displays the current scorecard to the player.\n",
        "\n",
        "    Args:\n",
        "    - scorecard: A dictionary representing the current scorecard.\n",
        "\n",
        "    Returns:\n",
        "    - None (prints the scorecard to the console).\n",
        "    \"\"\"\n",
        "    print(\"Scorecard:\")\n",
        "    for category, score in scorecard.items():\n",
        "        print(f\"{category}: {score}\")\n"
      ],
      "metadata": {
        "id": "v_0cKlM087nm"
      },
      "execution_count": 7,
      "outputs": []
    },
    {
      "cell_type": "code",
      "source": [
        "def test_update_and_display_scorecard():\n",
        "    # Initialize an empty scorecard\n",
        "    scorecard = {}\n",
        "\n",
        "    # Update the scorecard with some scores\n",
        "    update_scorecard(scorecard, 'Ones', 5)\n",
        "    update_scorecard(scorecard, 'Twos', 8)\n",
        "    update_scorecard(scorecard, 'Threes', 12)\n",
        "\n",
        "    # Display the scorecard\n",
        "    print(\"After updating:\")\n",
        "    display_scorecard(scorecard)\n",
        "\n",
        "    # Test if the scores are correctly updated in the scorecard\n",
        "    assert scorecard['Ones'] == 5\n",
        "    assert scorecard['Twos'] == 8\n",
        "    assert scorecard['Threes'] == 12\n",
        "\n",
        "    # Update the score for a category\n",
        "    update_scorecard(scorecard, 'Twos', 10)\n",
        "\n",
        "    # Display the scorecard after updating 'Twos'\n",
        "    print(\"After updating 'Twos':\")\n",
        "    display_scorecard(scorecard)\n",
        "\n",
        "    # Test if the score for 'Twos' is updated correctly\n",
        "    assert scorecard['Twos'] == 10\n",
        "\n",
        "    print(\"All tests passed successfully.\")\n",
        "\n",
        "# Run the test function\n",
        "test_update_and_display_scorecard()\n"
      ],
      "metadata": {
        "colab": {
          "base_uri": "https://localhost:8080/"
        },
        "id": "r43q9nx99GZj",
        "outputId": "8914da74-1aae-49f3-9003-609ef1a62794"
      },
      "execution_count": 8,
      "outputs": [
        {
          "output_type": "stream",
          "name": "stdout",
          "text": [
            "After updating:\n",
            "Scorecard:\n",
            "Ones: 5\n",
            "Twos: 8\n",
            "Threes: 12\n",
            "After updating 'Twos':\n",
            "Scorecard:\n",
            "Ones: 5\n",
            "Twos: 10\n",
            "Threes: 12\n",
            "All tests passed successfully.\n"
          ]
        }
      ]
    },
    {
      "cell_type": "code",
      "source": [
        "def is_game_over(scorecard):\n",
        "    \"\"\"\n",
        "    Checks if the game is over by verifying if all categories have been scored.\n",
        "\n",
        "    Args:\n",
        "    - scorecard: A dictionary representing the current scorecard.\n",
        "\n",
        "    Returns:\n",
        "    - True if all categories have been scored, False otherwise.\n",
        "    \"\"\"\n",
        "    return all(scorecard.values())\n",
        "\n",
        "def calculate_final_score(scorecard):\n",
        "    \"\"\"\n",
        "    Calculates the final score at the end of the game.\n",
        "\n",
        "    Args:\n",
        "    - scorecard: A dictionary representing the current scorecard.\n",
        "\n",
        "    Returns:\n",
        "    - The final score.\n",
        "    \"\"\"\n",
        "    upper_section_total = sum(scorecard[category] for category in ['Ones', 'Twos', 'Threes', 'Fours', 'Fives', 'Sixes'] if category in scorecard)\n",
        "    upper_section_bonus = 35 if upper_section_total >= 63 else 0\n",
        "    upper_section_score = upper_section_total + upper_section_bonus\n",
        "    lower_section_score = sum(scorecard[category] for category in ['Three of a Kind', 'Four of a Kind', 'Full House', 'Small Straight', 'Large Straight', 'Yahtzee', 'Chance'] if category in scorecard)\n",
        "    return upper_section_score + lower_section_score\n",
        "\n",
        "def main_game_loop():\n",
        "    \"\"\"\n",
        "    Manages the main game loop.\n",
        "\n",
        "    Returns:\n",
        "    - None\n",
        "    \"\"\"\n",
        "    scorecard = {category: None for category in ['Ones', 'Twos', 'Threes', 'Fours', 'Fives', 'Sixes',\n",
        "                                                 'Three of a Kind', 'Four of a Kind', 'Full House',\n",
        "                                                 'Small Straight', 'Large Straight', 'Yahtzee', 'Chance']}\n",
        "\n",
        "    while not is_game_over(scorecard):\n",
        "        # Simulate player's turn (input dice roll, choose category, calculate score)\n",
        "        dice_roll = roll_dice(5)\n",
        "        print(\"Dice roll:\", dice_roll)\n",
        "        category = input_category_choice()\n",
        "        if validate_category(dice_roll, category):\n",
        "            score = calculate_score(dice_roll, category)\n",
        "            update_scorecard(scorecard, category, score)\n",
        "            display_scorecard(scorecard)\n",
        "        else:\n",
        "            print(\"Invalid category choice. Please choose again.\")\n",
        "\n",
        "    final_score = calculate_final_score(scorecard)\n",
        "    print(\"Game over! Final score:\", final_score)\n",
        "\n",
        "def input_dice_roll():\n",
        "    \"\"\"\n",
        "    Prompts the player to input their dice roll.\n",
        "\n",
        "    Returns:\n",
        "    - A list containing the values rolled on each die.\n",
        "    \"\"\"\n",
        "    try:\n",
        "        dice_roll = list(map(int, input(\"Enter dice roll (space-separated): \").split()))\n",
        "        if len(dice_roll) != 5 or not all(1 <= die <= 6 for die in dice_roll):\n",
        "            raise ValueError(\"Invalid input. Please enter 5 integers between 1 and 6.\")\n",
        "        return dice_roll\n",
        "    except ValueError as e:\n",
        "        print(\"Error:\", e)\n",
        "        return input_dice_roll()\n",
        "\n",
        "def input_category_choice():\n",
        "    \"\"\"\n",
        "    Prompts the player to choose a scoring category.\n",
        "\n",
        "    Returns:\n",
        "    - A string representing the chosen category.\n",
        "    \"\"\"\n",
        "    valid_categories = ['Ones', 'Twos', 'Threes', 'Fours', 'Fives', 'Sixes',\n",
        "                        'Three of a Kind', 'Four of a Kind', 'Full House',\n",
        "                        'Small Straight', 'Large Straight', 'Yahtzee', 'Chance']\n",
        "    category = input(\"Choose a scoring category: \")\n",
        "    if category in valid_categories:\n",
        "        return category\n",
        "    else:\n",
        "        print(\"Invalid category choice. Please choose from:\", valid_categories)\n",
        "        return input_category_choice()\n"
      ],
      "metadata": {
        "id": "k0OJiISC9I3J"
      },
      "execution_count": 9,
      "outputs": []
    },
    {
      "cell_type": "code",
      "source": [
        "def test_game_functions():\n",
        "    # Test is_game_over function\n",
        "    scorecard_incomplete = {'Ones': 1, 'Twos': None, 'Threes': 3, 'Fours': 4, 'Fives': 10}\n",
        "    assert is_game_over(scorecard_incomplete) == False\n",
        "\n",
        "    scorecard_complete = {'Ones': 1, 'Twos': 2, 'Threes': 3, 'Fours': 4, 'Fives': 5, 'Sixes': 6,\n",
        "                          'Three of a Kind': 18, 'Four of a Kind': 16, 'Full House': 25,\n",
        "                          'Small Straight': 30, 'Large Straight': 40, 'Yahtzee': 50, 'Chance': 20}\n",
        "    assert is_game_over(scorecard_complete) == True\n",
        "\n",
        "    # Test calculate_final_score function\n",
        "    final_score = calculate_final_score(scorecard_complete)\n",
        "    print(\"Calculated final score:\", final_score)  # Add this line to see the calculated final score\n",
        "    assert final_score == 262  # Calculated manually based on the provided scorecard\n",
        "\n",
        "    print(\"All game function tests passed successfully.\")\n",
        "\n",
        "# Run the test function\n",
        "test_game_functions()\n"
      ],
      "metadata": {
        "colab": {
          "base_uri": "https://localhost:8080/",
          "height": 315
        },
        "id": "V08xHx4vTthE",
        "outputId": "39f6fa74-b73e-4aae-90cd-7f8bfde0deb3"
      },
      "execution_count": 11,
      "outputs": [
        {
          "output_type": "stream",
          "name": "stdout",
          "text": [
            "Calculated final score: 220\n"
          ]
        },
        {
          "output_type": "error",
          "ename": "AssertionError",
          "evalue": "",
          "traceback": [
            "\u001b[0;31m---------------------------------------------------------------------------\u001b[0m",
            "\u001b[0;31mAssertionError\u001b[0m                            Traceback (most recent call last)",
            "\u001b[0;32m<ipython-input-11-4f6a71bd6312>\u001b[0m in \u001b[0;36m<cell line: 19>\u001b[0;34m()\u001b[0m\n\u001b[1;32m     17\u001b[0m \u001b[0;34m\u001b[0m\u001b[0m\n\u001b[1;32m     18\u001b[0m \u001b[0;31m# Run the test function\u001b[0m\u001b[0;34m\u001b[0m\u001b[0;34m\u001b[0m\u001b[0m\n\u001b[0;32m---> 19\u001b[0;31m \u001b[0mtest_game_functions\u001b[0m\u001b[0;34m(\u001b[0m\u001b[0;34m)\u001b[0m\u001b[0;34m\u001b[0m\u001b[0;34m\u001b[0m\u001b[0m\n\u001b[0m",
            "\u001b[0;32m<ipython-input-11-4f6a71bd6312>\u001b[0m in \u001b[0;36mtest_game_functions\u001b[0;34m()\u001b[0m\n\u001b[1;32m     12\u001b[0m     \u001b[0mfinal_score\u001b[0m \u001b[0;34m=\u001b[0m \u001b[0mcalculate_final_score\u001b[0m\u001b[0;34m(\u001b[0m\u001b[0mscorecard_complete\u001b[0m\u001b[0;34m)\u001b[0m\u001b[0;34m\u001b[0m\u001b[0;34m\u001b[0m\u001b[0m\n\u001b[1;32m     13\u001b[0m     \u001b[0mprint\u001b[0m\u001b[0;34m(\u001b[0m\u001b[0;34m\"Calculated final score:\"\u001b[0m\u001b[0;34m,\u001b[0m \u001b[0mfinal_score\u001b[0m\u001b[0;34m)\u001b[0m  \u001b[0;31m# Add this line to see the calculated final score\u001b[0m\u001b[0;34m\u001b[0m\u001b[0;34m\u001b[0m\u001b[0m\n\u001b[0;32m---> 14\u001b[0;31m     \u001b[0;32massert\u001b[0m \u001b[0mfinal_score\u001b[0m \u001b[0;34m==\u001b[0m \u001b[0;36m262\u001b[0m  \u001b[0;31m# Calculated manually based on the provided scorecard\u001b[0m\u001b[0;34m\u001b[0m\u001b[0;34m\u001b[0m\u001b[0m\n\u001b[0m\u001b[1;32m     15\u001b[0m \u001b[0;34m\u001b[0m\u001b[0m\n\u001b[1;32m     16\u001b[0m     \u001b[0mprint\u001b[0m\u001b[0;34m(\u001b[0m\u001b[0;34m\"All game function tests passed successfully.\"\u001b[0m\u001b[0;34m)\u001b[0m\u001b[0;34m\u001b[0m\u001b[0;34m\u001b[0m\u001b[0m\n",
            "\u001b[0;31mAssertionError\u001b[0m: "
          ]
        }
      ]
    },
    {
      "cell_type": "code",
      "source": [
        "def test_game_functions():\n",
        "    # Test is_game_over function\n",
        "    scorecard_incomplete = {'Ones': 1, 'Twos': None, 'Threes': 3, 'Fours': 4, 'Fives': 10}\n",
        "    assert is_game_over(scorecard_incomplete) == False\n",
        "\n",
        "    scorecard_complete = {'Ones': 1, 'Twos': 2, 'Threes': 3, 'Fours': 4, 'Fives': 5, 'Sixes': 6,\n",
        "                          'Three of a Kind': 18, 'Four of a Kind': 16, 'Full House': 25,\n",
        "                          'Small Straight': 30, 'Large Straight': 40, 'Yahtzee': 50, 'Chance': 20}\n",
        "    assert is_game_over(scorecard_complete) == True\n",
        "\n",
        "    # Test calculate_final_score function\n",
        "    final_score = calculate_final_score(scorecard_complete)\n",
        "    print(\"Calculated final score:\", final_score)  # Add this line to see the calculated final score\n",
        "    assert final_score == 220  # Update the expected final score to 220\n",
        "\n",
        "    print(\"All game function tests passed successfully.\")\n",
        "\n",
        "# Run the test function\n",
        "test_game_functions()\n"
      ],
      "metadata": {
        "colab": {
          "base_uri": "https://localhost:8080/"
        },
        "id": "5IKAWkJT95cl",
        "outputId": "2020f662-46fc-4fdf-9f28-f39d9f3eba96"
      },
      "execution_count": 13,
      "outputs": [
        {
          "output_type": "stream",
          "name": "stdout",
          "text": [
            "Calculated final score: 220\n",
            "All game function tests passed successfully.\n"
          ]
        }
      ]
    },
    {
      "cell_type": "code",
      "source": [],
      "metadata": {
        "id": "hSpoFVNz_JF-"
      },
      "execution_count": null,
      "outputs": []
    }
  ]
}